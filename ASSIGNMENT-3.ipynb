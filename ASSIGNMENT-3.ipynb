{
 "cells": [
  {
   "cell_type": "markdown",
   "metadata": {},
   "source": [
    "##\n",
    "Create folder Named “JECRC” and put multiple images, text and pdf\n",
    "files inside the JECRC folder, after that you will write a python\n",
    "program to filter out all the images, text and pdf files in separate folder\n",
    "like “image_folder” , “text_folder” and “pdf_folder”, your python\n",
    "program will be able to filter out all these file and move into the\n",
    "corresponding folders.\n"
   ]
  },
  {
   "cell_type": "code",
   "execution_count": 1,
   "metadata": {},
   "outputs": [],
   "source": [
    "import os\n"
   ]
  },
  {
   "cell_type": "code",
   "execution_count": 2,
   "metadata": {},
   "outputs": [],
   "source": [
    "import shutil"
   ]
  },
  {
   "cell_type": "code",
   "execution_count": 3,
   "metadata": {},
   "outputs": [],
   "source": [
    "os.mkdir('JECRC')"
   ]
  },
  {
   "cell_type": "code",
   "execution_count": 4,
   "metadata": {},
   "outputs": [],
   "source": [
    "source_path = r'C:\\Users\\Arham\\OneDrive\\Desktop\\Industrial Training\\JECRC'\n",
    "os.chdir(source_path)"
   ]
  },
  {
   "cell_type": "code",
   "execution_count": 7,
   "metadata": {},
   "outputs": [
    {
     "data": {
      "text/plain": [
       "'C:\\\\Users\\\\Arham\\\\OneDrive\\\\Desktop\\\\Industrial Training\\\\JECRC'"
      ]
     },
     "execution_count": 7,
     "metadata": {},
     "output_type": "execute_result"
    }
   ],
   "source": [
    "os.getcwd()"
   ]
  },
  {
   "cell_type": "code",
   "execution_count": 8,
   "metadata": {},
   "outputs": [],
   "source": [
    "os.makedirs('pdf_folder')"
   ]
  },
  {
   "cell_type": "code",
   "execution_count": 9,
   "metadata": {},
   "outputs": [],
   "source": [
    "os.makedirs('img_folder')"
   ]
  },
  {
   "cell_type": "code",
   "execution_count": 11,
   "metadata": {},
   "outputs": [],
   "source": [
    "os.makedirs('text_folder')\n"
   ]
  },
  {
   "cell_type": "code",
   "execution_count": 12,
   "metadata": {},
   "outputs": [
    {
     "name": "stdout",
     "output_type": "stream",
     "text": [
      "['DSA Assignment 1.pdf', 'DSA Assignment 2.pdf', 'DSA Assignment 4 22 Nov 23 · 03·51·55.pdf', 'DSA Assignment 5.pdf', 'hehe.txt', 'hello.txt', 'img_folder', 'pdf_folder', 'Screenshot (79).png', 'Screenshot (80).png', 'Screenshot (81).png', 'Screenshot (82).png', 'text_folder', 'upflair.txt']\n"
     ]
    }
   ],
   "source": [
    "items = os.listdir()\n",
    "print(items)"
   ]
  },
  {
   "cell_type": "code",
   "execution_count": 13,
   "metadata": {},
   "outputs": [],
   "source": [
    "pdf_path = r'C:\\Users\\Arham\\OneDrive\\Desktop\\Industrial Training\\JECRC\\pdf_folder'\n",
    "img_path = r'C:\\Users\\Arham\\OneDrive\\Desktop\\Industrial Training\\JECRC\\img_folder'\n",
    "text_path = r'C:\\Users\\Arham\\OneDrive\\Desktop\\Industrial Training\\JECRC\\text_folder'"
   ]
  },
  {
   "cell_type": "code",
   "execution_count": 15,
   "metadata": {},
   "outputs": [],
   "source": [
    "for i in items:\n",
    "    if i.lower().endswith('.pdf'):\n",
    "        shutil.move(src=os.path.join(source_path,i), dst=pdf_path)\n",
    "    elif i.lower().endswith('.txt'):\n",
    "        shutil.move(src=os.path.join(source_path,i), dst=text_path)\n",
    "    elif i.lower().endswith('.png'):\n",
    "        shutil.move(src=os.path.join(source_path,i), dst=img_path)"
   ]
  },
  {
   "cell_type": "code",
   "execution_count": null,
   "metadata": {},
   "outputs": [],
   "source": []
  }
 ],
 "metadata": {
  "kernelspec": {
   "display_name": "Python 3",
   "language": "python",
   "name": "python3"
  },
  "language_info": {
   "codemirror_mode": {
    "name": "ipython",
    "version": 3
   },
   "file_extension": ".py",
   "mimetype": "text/x-python",
   "name": "python",
   "nbconvert_exporter": "python",
   "pygments_lexer": "ipython3",
   "version": "3.12.1"
  }
 },
 "nbformat": 4,
 "nbformat_minor": 2
}
